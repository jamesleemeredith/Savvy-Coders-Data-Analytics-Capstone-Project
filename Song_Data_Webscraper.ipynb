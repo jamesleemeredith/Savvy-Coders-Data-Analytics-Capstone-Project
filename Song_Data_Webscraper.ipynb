{
 "cells": [
  {
   "cell_type": "code",
   "execution_count": null,
   "metadata": {},
   "outputs": [],
   "source": [
    "import sqlite3\n",
    "import urllib.request, urllib.parse, urllib.error\n",
    "from urllib.parse import urljoin\n",
    "from bs4 import BeautifulSoup\n",
    "import ssl\n",
    "import re\n",
    "import spotipy\n",
    "from spotipy.oauth2 import SpotifyClientCredentials\n",
    "import spotifyusercredentials\n",
    "\n",
    "# Spotify API Authentication - without user\n",
    "client_credentials_manager = SpotifyClientCredentials(client_id=spotifyusercredentials.client_ID, client_secret=spotifyusercredentials.client_SECRET)\n",
    "sp = spotipy.Spotify(client_credentials_manager = client_credentials_manager)\n",
    "\n",
    "# Ignore SSL certificate errors\n",
    "ctx = ssl.create_default_context()\n",
    "ctx.check_hostname = False\n",
    "ctx.verify_mode = ssl.CERT_NONE\n",
    "\n",
    "# Creates SQLlite Database\n",
    "conn = sqlite3.connect('songdata.sqlite')\n",
    "cur = conn.cursor()\n",
    "\n",
    "# Populates Created Database with executescript()\n",
    "cur.executescript('''\n",
    "DROP TABLE IF EXISTS Artists;\n",
    "DROP TABLE IF EXISTS Chords;\n",
    "DROP TABLE IF EXISTS Songs;\n",
    "\n",
    "CREATE TABLE Artists (\n",
    "    id  INTEGER NOT NULL PRIMARY KEY AUTOINCREMENT UNIQUE,\n",
    "    artist    TEXT UNIQUE\n",
    ");\n",
    "\n",
    "CREATE TABLE Chords (\n",
    "    id  INTEGER NOT NULL PRIMARY KEY AUTOINCREMENT UNIQUE,\n",
    "    chords   TEXT UNIQUE\n",
    ");\n",
    "\n",
    "CREATE TABLE Songs (\n",
    "    id  INTEGER NOT NULL PRIMARY KEY AUTOINCREMENT UNIQUE,\n",
    "    title    TEXT UNIQUE,\n",
    "    artist   TEXT UNIQUE,\n",
    "    chords TEXT,\n",
    "    popularity INTEGER\n",
    ");\n",
    "''')\n",
    "\n",
    "# Defines custom function for Scrapping Song Title, Artist, And Chord Progression from Hooktheory Webpage\n",
    "def scrap_page():\n",
    "  fhandle = urllib.request.urlopen(url, context = ctx)\n",
    "  for line in fhandle:\n",
    "        line = line.decode()\n",
    "        if re.search('<p class=\"song\">(.+?)</p>', line):\n",
    "            songtitle = re.findall('<p class=\"song\">(.+?)</p>', line)\n",
    "            songtitle = str(songtitle[0])\n",
    "            artist = re.findall('<p class=\"artist\">by (.+?)</p>', line)\n",
    "            artist = str(artist[0])\n",
    "\n",
    "            # Queries Spotify API for song data using webscrapped songittle and artist \n",
    "            searchQuery = songtitle + ' ' + artist\n",
    "            searchResults = sp.search(q=searchQuery, limit=1)\n",
    "\n",
    "            # Parses Song Popularity from retrieved data\n",
    "            try:\n",
    "                popularity = searchResults['tracks']['items'][0]['popularity']\n",
    "            except:\n",
    "                popularity = 0\n",
    "\n",
    "            print(songtitle)\n",
    "            print(artist)\n",
    "            print(chords)\n",
    "            print(popularity)\n",
    "        \n",
    "            cur.execute('''INSERT OR IGNORE INTO Chords (chords) \n",
    "            VALUES ( ? )''', ( chords, ) )\n",
    "            cur.execute('SELECT id FROM Chords WHERE chords = ? ', (chords, ))\n",
    "            chords_id = cur.fetchone()[0]\n",
    "\n",
    "            cur.execute('''INSERT OR IGNORE INTO Artists (artist) \n",
    "            VALUES ( ? )''', ( artist, ) )\n",
    "            cur.execute('SELECT id FROM Artists WHERE artist = ? ', (artist, ))\n",
    "            artist_id = cur.fetchone()[0]\n",
    "\n",
    "            cur.execute('''INSERT OR IGNORE INTO Songs (title, artist, chords, popularity) \n",
    "            VALUES ( ?, ?, ?, ?)''', ( songtitle, artist, chords, popularity) )\n",
    "\n",
    "            conn.commit()\n"
   ]
  },
  {
   "cell_type": "code",
   "execution_count": null,
   "metadata": {},
   "outputs": [],
   "source": [
    "# Retrieves Data from For Songs with I-V-vi-IV Chord Progression\n",
    "url = 'https://www.hooktheory.com/theorytab/common-chord-progressions/1'\n",
    "pagecount = 1\n",
    "chords = \"I-V-vi-IV\"\n",
    "while pagecount < 6:\n",
    "    scrap_page()\n",
    "    pagecount= pagecount + 1\n",
    "    pagecounturl = '?page=' + str(pagecount)\n",
    "    url = urljoin(url, pagecounturl)"
   ]
  },
  {
   "cell_type": "code",
   "execution_count": null,
   "metadata": {},
   "outputs": [],
   "source": [
    "# Retrieves Data from For Songs with vi-V-IV-V Chord Progression\n",
    "url = 'https://www.hooktheory.com/theorytab/common-chord-progressions/4'\n",
    "pagecount = 1\n",
    "chords = \"vi-V-IV-V\"\n",
    "while pagecount < 4:\n",
    "    scrap_page()\n",
    "    pagecount= pagecount + 1\n",
    "    pagecounturl = '?page=' + str(pagecount)\n",
    "    url = urljoin(url, pagecounturl)"
   ]
  },
  {
   "cell_type": "code",
   "execution_count": null,
   "metadata": {},
   "outputs": [],
   "source": [
    "# Retrieves Data from For Songs with I-V6-vi-V Chord Progression\n",
    "url = 'https://www.hooktheory.com/theorytab/common-chord-progressions/22'\n",
    "pagecount = 1\n",
    "chords = \"I-V6-vi-V\"\n",
    "while pagecount < 4:\n",
    "    scrap_page()\n",
    "    pagecount= pagecount + 1\n",
    "    pagecounturl = '?page=' + str(pagecount)\n",
    "    url = urljoin(url, pagecounturl)"
   ]
  },
  {
   "cell_type": "code",
   "execution_count": null,
   "metadata": {},
   "outputs": [],
   "source": [
    "# Retrieves Data from For Songs with IV-I6-ii Chord Progression\n",
    "url = 'https://www.hooktheory.com/theorytab/common-chord-progressions/26'\n",
    "pagecount = 1\n",
    "chords = \"IV-I6-ii\"\n",
    "while pagecount < 2:\n",
    "    scrap_page()\n",
    "    pagecount= pagecount + 1\n",
    "    pagecounturl = '?page=' + str(pagecount)\n",
    "    url = urljoin(url, pagecounturl)"
   ]
  },
  {
   "cell_type": "code",
   "execution_count": null,
   "metadata": {},
   "outputs": [],
   "source": [
    "# Retrieves Data from For Songs with I-V-IV-bVIII-I Chord Progression\n",
    "url = 'https://www.hooktheory.com/theorytab/common-chord-progressions/45'\n",
    "pagecount = 1\n",
    "chords = \"I-V-IV-bVIII-I\"\n",
    "while pagecount < 4:\n",
    "    scrap_page()\n",
    "    pagecount= pagecount + 1\n",
    "    pagecounturl = '?page=' + str(pagecount)\n",
    "    url = urljoin(url, pagecounturl)"
   ]
  },
  {
   "cell_type": "code",
   "execution_count": null,
   "metadata": {},
   "outputs": [],
   "source": [
    "# Retrieves Data from For Songs with I-V-vi-iii-IV Chord Progression\n",
    "url = 'https://www.hooktheory.com/theorytab/common-chord-progressions/3'\n",
    "pagecount = 1\n",
    "chords = \"I-V-vi-iii-IV\"\n",
    "while pagecount < 2:\n",
    "    scrap_page()\n",
    "    pagecount= pagecount + 1\n",
    "    pagecounturl = '?page=' + str(pagecount)\n",
    "    url = urljoin(url, pagecounturl)"
   ]
  },
  {
   "cell_type": "code",
   "execution_count": null,
   "metadata": {},
   "outputs": [],
   "source": [
    "# Retrieves Data from For Songs with I-vi-IV-V Chord Progression\n",
    "url = 'https://www.hooktheory.com/theorytab/common-chord-progressions/5'\n",
    "pagecount = 1\n",
    "chords = \"I-vi-IV-V\"\n",
    "while pagecount < 3:\n",
    "    scrap_page()\n",
    "    pagecount= pagecount + 1\n",
    "    pagecounturl = '?page=' + str(pagecount)\n",
    "    url = urljoin(url, pagecounturl)"
   ]
  },
  {
   "cell_type": "code",
   "execution_count": null,
   "metadata": {},
   "outputs": [],
   "source": [
    "# Retrieves Data from For Songs with I-IV-vi-V Chord Progression\n",
    "url = 'https://www.hooktheory.com/theorytab/common-chord-progressions/6'\n",
    "pagecount = 1\n",
    "chords = \"I-IV-vi-V\"\n",
    "while pagecount < 3:\n",
    "    scrap_page()\n",
    "    pagecount= pagecount + 1\n",
    "    pagecounturl = '?page=' + str(pagecount)\n",
    "    url = urljoin(url, pagecounturl)"
   ]
  },
  {
   "cell_type": "code",
   "execution_count": null,
   "metadata": {},
   "outputs": [],
   "source": [
    "# Retrieves Data from For Songs with IV-ii-I64-V-I Chord Progression\n",
    "url = 'https://www.hooktheory.com/theorytab/common-chord-progressions/21'\n",
    "pagecount = 1\n",
    "chords = \"IV-ii-I64-V-I\"\n",
    "while pagecount < 3:\n",
    "    scrap_page()\n",
    "    pagecount= pagecount + 1\n",
    "    pagecounturl = '?page=' + str(pagecount)\n",
    "    url = urljoin(url, pagecounturl)"
   ]
  },
  {
   "cell_type": "code",
   "execution_count": null,
   "metadata": {},
   "outputs": [],
   "source": [
    "# Retrieves Data from For Songs with IV-iv-I Chord Progression\n",
    "url = 'https://www.hooktheory.com/theorytab/common-chord-progressions/41'\n",
    "pagecount = 1\n",
    "chords = \"IV-iv-I\"\n",
    "while pagecount < 3:\n",
    "    scrap_page()\n",
    "    pagecount= pagecount + 1\n",
    "    pagecounturl = '?page=' + str(pagecount)\n",
    "    url = urljoin(url, pagecounturl)"
   ]
  }
 ],
 "metadata": {
  "kernelspec": {
   "display_name": "Python 3.10.8 64-bit (microsoft store)",
   "language": "python",
   "name": "python3"
  },
  "language_info": {
   "codemirror_mode": {
    "name": "ipython",
    "version": 3
   },
   "file_extension": ".py",
   "mimetype": "text/x-python",
   "name": "python",
   "nbconvert_exporter": "python",
   "pygments_lexer": "ipython3",
   "version": "3.10.9 (tags/v3.10.9:1dd9be6, Dec  6 2022, 20:01:21) [MSC v.1934 64 bit (AMD64)]"
  },
  "orig_nbformat": 4,
  "vscode": {
   "interpreter": {
    "hash": "f7d6fef4803a87b6bf8f046c08ccb2d01bfe26e59291b0f299e6bb7968c27f7f"
   }
  }
 },
 "nbformat": 4,
 "nbformat_minor": 2
}
